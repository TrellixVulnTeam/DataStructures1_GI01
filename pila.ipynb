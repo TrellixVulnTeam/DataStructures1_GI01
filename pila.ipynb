{
 "cells": [
  {
   "cell_type": "code",
   "execution_count": 2,
   "metadata": {},
   "outputs": [],
   "source": [
    "class Estructura_Pila(object):\n",
    "    def __init__(self):\n",
    "        self.__list=[]\n",
    "\n",
    "    #Agregar un elemento a la Pila\n",
    "    def push(self,item):\n",
    "        self.__list.append(item)\n",
    "    \n",
    "    #Quitar un elemento de la Pila\n",
    "    def pop(self):\n",
    "        return self.__list.pop()\n",
    "\n",
    "    \n",
    "    #Obtener el elemento superior de la pila\n",
    "    def peek(self):\n",
    "        if self.__list:\n",
    "            return self.__list[-1]\n",
    "        else:\n",
    "            return None\n",
    "    \n",
    "    #Determinar si la Pila esta vacia\n",
    "    def is_empty(self):\n",
    "        return self.__list == []\n",
    "\n",
    "    #Devuelve el numero de elementos en la Pila\n",
    "    def size(self):\n",
    "        return len(self.__list)\n",
    "\n",
    "        \n"
   ]
  },
  {
   "cell_type": "code",
   "execution_count": 4,
   "metadata": {},
   "outputs": [
    {
     "data": {
      "text/plain": [
       "True"
      ]
     },
     "execution_count": 4,
     "metadata": {},
     "output_type": "execute_result"
    }
   ],
   "source": [
    "s=Estructura_Pila()\n",
    "s.is_empty()"
   ]
  },
  {
   "cell_type": "code",
   "execution_count": 6,
   "metadata": {},
   "outputs": [
    {
     "data": {
      "text/plain": [
       "False"
      ]
     },
     "execution_count": 6,
     "metadata": {},
     "output_type": "execute_result"
    }
   ],
   "source": [
    "s.push(0)\n",
    "s.is_empty()"
   ]
  },
  {
   "cell_type": "code",
   "execution_count": 8,
   "metadata": {},
   "outputs": [],
   "source": [
    "s.push(1)\n",
    "s.push(2)\n",
    "s.push(3)\n",
    "s.push(4)\n",
    "print(s.pop())\n",
    "print(s.pop())\n",
    "print(s.pop())\n"
   ]
  }
 ],
 "metadata": {
  "kernelspec": {
   "display_name": "Python 3.10.3 64-bit",
   "language": "python",
   "name": "python3"
  },
  "language_info": {
   "codemirror_mode": {
    "name": "ipython",
    "version": 3
   },
   "file_extension": ".py",
   "mimetype": "text/x-python",
   "name": "python",
   "nbconvert_exporter": "python",
   "pygments_lexer": "ipython3",
   "version": "3.10.3"
  },
  "orig_nbformat": 4,
  "vscode": {
   "interpreter": {
    "hash": "73a5200d3fd404ce14db8ffe6e34bc62c01709436f046558d243792d3348dfdb"
   }
  }
 },
 "nbformat": 4,
 "nbformat_minor": 2
}

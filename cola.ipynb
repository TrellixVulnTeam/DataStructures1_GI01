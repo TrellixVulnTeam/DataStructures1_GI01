{
 "cells": [
  {
   "cell_type": "code",
   "execution_count": 34,
   "metadata": {},
   "outputs": [],
   "source": [
    "class Estructura_Cola(object):\n",
    "    def __init__(self):\n",
    "        self.__list=[]\n",
    "    \n",
    "    #Agregar elemento a la cola\n",
    "    def enqueue(self,item):\n",
    "        self.__list.append(item)\n",
    "\n",
    "\n",
    "    #Quitar un elemento de la cola\n",
    "    def dequeue(self):\n",
    "        if self.__list:\n",
    "            return self.__list.pop(0)\n",
    "        else:\n",
    "            return None\n",
    "    \n",
    "    #Ver el primer elemento\n",
    "    def first(self):\n",
    "        if self.__list:\n",
    "            return self.__list[0]\n",
    "        else:\n",
    "            return None\n",
    "\n",
    "    #Verificar si esta vacia\n",
    "    def is_empty(self):\n",
    "        return self.__list == []\n",
    "\n",
    "\n",
    "    #Devolver la cantidad de elementos de la cola\n",
    "    def size(self):\n",
    "        return len(self.__list)\n"
   ]
  },
  {
   "cell_type": "code",
   "execution_count": 20,
   "metadata": {},
   "outputs": [
    {
     "data": {
      "text/plain": [
       "True"
      ]
     },
     "execution_count": 20,
     "metadata": {},
     "output_type": "execute_result"
    }
   ],
   "source": [
    "q=Estructura_Cola()\n",
    "q.is_empty()"
   ]
  },
  {
   "cell_type": "code",
   "execution_count": 12,
   "metadata": {},
   "outputs": [],
   "source": [
    "q.enqueue(1)\n",
    "q.enqueue(2)\n",
    "q.enqueue(3)"
   ]
  },
  {
   "cell_type": "code",
   "execution_count": 32,
   "metadata": {},
   "outputs": [
    {
     "name": "stdout",
     "output_type": "stream",
     "text": [
      "None\n"
     ]
    }
   ],
   "source": [
    "print(q.dequeue())"
   ]
  }
 ],
 "metadata": {
  "kernelspec": {
   "display_name": "Python 3.10.3 64-bit",
   "language": "python",
   "name": "python3"
  },
  "language_info": {
   "codemirror_mode": {
    "name": "ipython",
    "version": 3
   },
   "file_extension": ".py",
   "mimetype": "text/x-python",
   "name": "python",
   "nbconvert_exporter": "python",
   "pygments_lexer": "ipython3",
   "version": "3.10.3"
  },
  "orig_nbformat": 4,
  "vscode": {
   "interpreter": {
    "hash": "73a5200d3fd404ce14db8ffe6e34bc62c01709436f046558d243792d3348dfdb"
   }
  }
 },
 "nbformat": 4,
 "nbformat_minor": 2
}

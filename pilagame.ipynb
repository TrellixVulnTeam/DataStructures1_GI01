{
 "cells": [
  {
   "cell_type": "markdown",
   "metadata": {},
   "source": [
    "1) Implementar un juego, que consista en apilar números enteros del 1 al 20, de forma aleatoria, para lo cual debe usarse una estructura de Pila. \n",
    "Luego, el usuario debe elegir un número de veces en que se va a quitar elementos de la pila, los cuales, sumados entre sí, no deben superar el valor de 50.\n",
    "El usuario pierde si la suma supera ese valor. Si no lo supera, gana, pero su calificación será 10 menos el número elementos que falten quitar para todavía no superar 50.\n",
    "El programa debe informar si perdió, y si ganó, con qué calificación lo hizo.\n",
    "\n",
    "Consideraciones:<br>\n",
    "a. Se puede usar la función input() para obtener una entrada de teclado.<br>\n",
    "b. Se puede usar la el modulo random para obtener valores aleatorios."
   ]
  },
  {
   "cell_type": "code",
   "execution_count": 264,
   "metadata": {},
   "outputs": [],
   "source": [
    "\n",
    "import random as r\n",
    "from IPython.display import clear_output"
   ]
  },
  {
   "cell_type": "code",
   "execution_count": 255,
   "metadata": {},
   "outputs": [],
   "source": [
    "class Estructura_Juego_Pila(object):\n",
    "    def __init__(self):\n",
    "        self.__list=[]\n",
    "\n",
    "\n",
    "    #apilar 20 num aleatorios\n",
    "    def start(self):\n",
    "        self.__list=list(range(20))\n",
    "        for i in range(0,20):\n",
    "            rand1=r.randint(1,20)\n",
    "            self.__list[i]=rand1\n",
    "        return self.__list\n",
    "\n",
    "\n",
    "    #quitar la cantidad deseada de numeros\n",
    "\n",
    "    def bet(self,apuesta):\n",
    "        numeros_suerte=[]\n",
    "        if apuesta.isnumeric():\n",
    "            apuesta=int(apuesta)\n",
    "            for i in range(apuesta):\n",
    "                numeros_suerte.append(self.__list.pop())\n",
    "            suma=sum(numeros_suerte)\n",
    "            respuesta=f\"Tus numeros son {numeros_suerte} que suman un total de {suma}\"\n",
    "            if sum(numeros_suerte)>50:\n",
    "                respuesta=f\"Tus numeros son {numeros_suerte} que suman un total de {suma}\\n jajaja perdiste\"\n",
    "            else:\n",
    "                popper=[]\n",
    "                contador=0\n",
    "\n",
    "                for i in range(len(self.__list)):\n",
    "                    if self.__list:\n",
    "                        popper.append(self.__list.pop())\n",
    "                        popper_int=sum(popper)\n",
    "                    if suma + popper_int >50:\n",
    "                        contador=contador+1\n",
    "                        respuesta=f\"Tus numeros son {numeros_suerte} que suman un total de {suma}\\n Felicitaciones ganaste {10-contador} puntos ya que te sobro {popper} para llegar a 50!\"  \n",
    "                        return respuesta \n",
    "                    else:\n",
    "                        contador=contador+1\n",
    "                    \n",
    "\n",
    "                respuesta=f\"Tus numeros son {numeros_suerte} que suman un total de {suma}\\n Felicitaciones ganaste\"  \n",
    "            return respuesta\n",
    "        else:\n",
    "            return f\"{apuesta} no es un valor entero\"\n",
    "\n",
    "            \n",
    "\n",
    "        \n"
   ]
  },
  {
   "cell_type": "code",
   "execution_count": 265,
   "metadata": {},
   "outputs": [],
   "source": [
    "def Aguante_La_Timba():\n",
    "    g=Estructura_Juego_Pila()\n",
    "    a=input(\"Desea jugar y/n ?\")\n",
    "    if a==\"y\":\n",
    "        print(\"Hay 20 numeros entre 1/20 apilados de forma aleatoria esta en usted decirme cuantos quitar \\n\")\n",
    "        print(\"Si la suma de ellos es mas de 50 pierde, si suma menos obtendra una puntuacion entre 1/10 segun cuantos elementos falten quitar hasta sumar 50\\n\")\n",
    "        print(\"Buena suerte!\")\n",
    "        b=input(\"Ingrese cuantos numeros quitar (mas numeros= mas puntos y mas riesgo de perder)\")\n",
    "        clear_output()\n",
    "        g.start()\n",
    "        print(g.bet(b))\n",
    "    else:\n",
    "        print(\"Que aburrido de tu parte\")\n",
    "\n",
    "    "
   ]
  },
  {
   "cell_type": "code",
   "execution_count": 267,
   "metadata": {},
   "outputs": [
    {
     "name": "stdout",
     "output_type": "stream",
     "text": [
      "Tus numeros son [15, 9, 5] que suman un total de 29\n",
      " Felicitaciones ganaste 7 puntos ya que te sobro [5, 7, 16] para llegar a 50!\n"
     ]
    }
   ],
   "source": [
    "Aguante_La_Timba()"
   ]
  }
 ],
 "metadata": {
  "kernelspec": {
   "display_name": "Python 3.8.2 ('entorno': venv)",
   "language": "python",
   "name": "python3"
  },
  "language_info": {
   "name": "python",
   "version": "3.8.2"
  },
  "orig_nbformat": 4,
  "vscode": {
   "interpreter": {
    "hash": "c4e42e602dbc860f267c1e4872af5e8d258563dc540afc7438d6f20e27c44f1a"
   }
  }
 },
 "nbformat": 4,
 "nbformat_minor": 2
}
